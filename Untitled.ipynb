{
 "cells": [
  {
   "cell_type": "code",
   "execution_count": 1,
   "id": "662f6ba2-5cff-450f-aac0-d275d7ee8091",
   "metadata": {},
   "outputs": [
    {
     "ename": "ModuleNotFoundError",
     "evalue": "No module named 'tensorflow_federated'",
     "output_type": "error",
     "traceback": [
      "\u001b[1;31m---------------------------------------------------------------------------\u001b[0m",
      "\u001b[1;31mModuleNotFoundError\u001b[0m                       Traceback (most recent call last)",
      "Cell \u001b[1;32mIn[1], line 2\u001b[0m\n\u001b[0;32m      1\u001b[0m \u001b[38;5;28;01mimport\u001b[39;00m \u001b[38;5;21;01mtensorflow\u001b[39;00m \u001b[38;5;28;01mas\u001b[39;00m \u001b[38;5;21;01mtf\u001b[39;00m\n\u001b[1;32m----> 2\u001b[0m \u001b[38;5;28;01mimport\u001b[39;00m \u001b[38;5;21;01mtensorflow_federated\u001b[39;00m \u001b[38;5;28;01mas\u001b[39;00m \u001b[38;5;21;01mtff\u001b[39;00m\n\u001b[0;32m      3\u001b[0m \u001b[38;5;28;01mimport\u001b[39;00m \u001b[38;5;21;01mnumpy\u001b[39;00m \u001b[38;5;28;01mas\u001b[39;00m \u001b[38;5;21;01mnp\u001b[39;00m\n\u001b[0;32m      5\u001b[0m \u001b[38;5;66;03m# Generate synthetic data for federated learning\u001b[39;00m\n",
      "\u001b[1;31mModuleNotFoundError\u001b[0m: No module named 'tensorflow_federated'"
     ]
    }
   ],
   "source": [
    "import tensorflow as tf\n",
    "import tensorflow_federated as tff\n",
    "import numpy as np\n",
    "\n",
    "# Generate synthetic data for federated learning\n",
    "def create_data():\n",
    "    # Create a simple dataset of 1000 data points with 2 features and a binary target\n",
    "    np.random.seed(0)\n",
    "    X = np.random.rand(1000, 2)\n",
    "    y = (X[:, 0] + X[:, 1] > 1).astype(int)  # Simple binary classification rule\n",
    "\n",
    "    # Split the data into 10 \"clients\"\n",
    "    data_per_client = 100  # 100 samples per client\n",
    "    client_data = []\n",
    "    for i in range(10):\n",
    "        client_data.append((X[i*data_per_client:(i+1)*data_per_client], y[i*data_per_client:(i+1)*data_per_client]))\n",
    "\n",
    "    return client_data\n",
    "\n",
    "# Define a simple model for classification\n",
    "def create_keras_model():\n",
    "    model = tf.keras.models.Sequential([\n",
    "        tf.keras.layers.Dense(10, activation='relu', input_shape=(2,)),\n",
    "        tf.keras.layers.Dense(1, activation='sigmoid')\n",
    "    ])\n",
    "    model.compile(optimizer='adam', loss='binary_crossentropy', metrics=['accuracy'])\n",
    "    return model\n",
    "\n",
    "# Create a federated learning model\n",
    "def model_fn():\n",
    "    keras_model = create_keras_model()\n",
    "    # Convert the Keras model to a TFF model\n",
    "    return tff.learning.from_keras_model(keras_model, input_spec=tf.TensorSpec(shape=[None, 2], dtype=tf.float32))\n",
    "\n",
    "# Federated training loop\n",
    "def train_model(client_data):\n",
    "    federated_data = [tf.data.Dataset.from_tensor_slices((X, y)).batch(10) for X, y in client_data]\n",
    "    \n",
    "    # Build the federated learning model\n",
    "    federated_model = model_fn()\n",
    "\n",
    "    # Create federated learning algorithm\n",
    "    federated_averaging = tff.learning.build_federated_averaging_process(federated_model)\n",
    "\n",
    "    # Initialize the process\n",
    "    state = federated_averaging.initialize()\n",
    "\n",
    "    # Train the model for 5 rounds\n",
    "    for round_num in range(5):\n",
    "        state, metrics = federated_averaging.next(state, federated_data)\n",
    "        print(f\"Round {round_num+1}: {metrics}\")\n",
    "\n",
    "    return state\n",
    "\n",
    "# Main function to run the federated learning example\n",
    "def main():\n",
    "    # Step 1: Create synthetic data for federated learning\n",
    "    client_data = create_data()\n",
    "\n",
    "    # Step 2: Train the model using federated learning\n",
    "    final_state = train_model(client_data)\n",
    "\n",
    "    print(\"Federated learning completed.\")\n",
    "\n",
    "if __name__ == \"__main__\":\n",
    "    main()\n"
   ]
  },
  {
   "cell_type": "code",
   "execution_count": null,
   "id": "a8a0ad6e-9e2a-4fb1-a6e1-4776be975643",
   "metadata": {},
   "outputs": [],
   "source": []
  }
 ],
 "metadata": {
  "kernelspec": {
   "display_name": "Python 3 (ipykernel)",
   "language": "python",
   "name": "python3"
  },
  "language_info": {
   "codemirror_mode": {
    "name": "ipython",
    "version": 3
   },
   "file_extension": ".py",
   "mimetype": "text/x-python",
   "name": "python",
   "nbconvert_exporter": "python",
   "pygments_lexer": "ipython3",
   "version": "3.12.3"
  }
 },
 "nbformat": 4,
 "nbformat_minor": 5
}
